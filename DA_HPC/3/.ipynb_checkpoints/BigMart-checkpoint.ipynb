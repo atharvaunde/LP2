{
 "cells": [
  {
   "cell_type": "markdown",
   "metadata": {},
   "source": [
    "# Bigmart Sales Analysis: For data comprising of transaction records of a sales store. \n",
    "The data has 8523 rows of 12 variables. Predict the sales of a store. Sample Test data set available\n",
    "here https://datahack.analyticsvidhya.com/contest/practice-problem-big-mart-sales-iii/\n",
    "\n",
    "Variable - Description\n",
    "\n",
    "Item_Identifier - Unique product ID\n",
    "\n",
    "Item_Weight - Weight of product\n",
    "\n",
    "Item_Fat_Content - Whether the product is low fat or not\n",
    "\n",
    "Item_Visibility - The % of total display area of all products in a store allocated to the particular product\n",
    "\n",
    "Item_Type - The category to which the product belongs\n",
    "\n",
    "Item_MRP - Maximum Retail Price (list price) of the product\n",
    "\n",
    "Outlet_Identifier - Unique store ID\n",
    "\n",
    "Outlet_Establishment_Year - The year in which store was established\n",
    "\n",
    "Outlet_Size - The size of the store in terms of ground area covered\n",
    "\n",
    "Outlet_Location_Type - The type of city in which the store is located\n",
    "\n",
    "Outlet_Type - Whether the outlet is just a grocery store or some sort of supermarket\n",
    "\n",
    "Item_Outlet_Sales - Sales of the product in the particulat store. This is the outcome variable to be predicted."
   ]
  },
  {
   "cell_type": "code",
   "execution_count": 47,
   "metadata": {},
   "outputs": [],
   "source": [
    "import pandas as pd\n",
    "import numpy as np\n",
    "import matplotlib.pyplot as plt"
   ]
  },
  {
   "cell_type": "code",
   "execution_count": 48,
   "metadata": {},
   "outputs": [],
   "source": [
    "Train = pd.read_csv(\"Train.csv\",header=None)\n",
    "Test = pd.read_csv(\"Test.csv\",header=None)"
   ]
  },
  {
   "cell_type": "code",
   "execution_count": 49,
   "metadata": {},
   "outputs": [],
   "source": [
    "headers = ['Item_Identifier','Item_Weight','Item_Fat_Content','Item_Visibility','Item_Type','Item_MRP','Outlet_Identifier','Outlet_Establishment_Year','Outlet_Size','Outlet_Location_Type','Outlet_Type','Item_Outlet_Sales']"
   ]
  },
  {
   "cell_type": "code",
   "execution_count": 50,
   "metadata": {},
   "outputs": [],
   "source": [
    "Train.columns = headers\n",
    "Test.columns = headers[:11]"
   ]
  },
  {
   "cell_type": "code",
   "execution_count": 51,
   "metadata": {},
   "outputs": [],
   "source": [
    "Train['Source'] = 'Train'\n",
    "Test['Source'] = 'Test'\n",
    "final_df = Test[['Item_Identifier','Outlet_Identifier']].copy()"
   ]
  },
  {
   "cell_type": "code",
   "execution_count": 52,
   "metadata": {},
   "outputs": [
    {
     "name": "stderr",
     "output_type": "stream",
     "text": [
      "C:\\Users\\hp\\Anaconda3\\lib\\site-packages\\ipykernel_launcher.py:1: FutureWarning: Sorting because non-concatenation axis is not aligned. A future version\n",
      "of pandas will change to not sort by default.\n",
      "\n",
      "To accept the future behavior, pass 'sort=True'.\n",
      "\n",
      "To retain the current behavior and silence the warning, pass sort=False\n",
      "\n",
      "  \"\"\"Entry point for launching an IPython kernel.\n"
     ]
    }
   ],
   "source": [
    "Data = pd.concat([Train,Test],ignore_index=True)"
   ]
  },
  {
   "cell_type": "code",
   "execution_count": 53,
   "metadata": {},
   "outputs": [],
   "source": [
    "Data['Outlet_Establishment_Year'] = Data['Outlet_Establishment_Year'].apply(lambda x: 2017 - x)"
   ]
  },
  {
   "cell_type": "code",
   "execution_count": 54,
   "metadata": {},
   "outputs": [],
   "source": [
    "Data['Item_Fat_Content'].replace('LF','Low',inplace = True)"
   ]
  },
  {
   "cell_type": "code",
   "execution_count": 55,
   "metadata": {},
   "outputs": [],
   "source": [
    "Data['Item_Fat_Content'].replace('low fat','Low',inplace = True)"
   ]
  },
  {
   "cell_type": "code",
   "execution_count": 56,
   "metadata": {},
   "outputs": [],
   "source": [
    "Data['Item_Fat_Content'].replace('reg','Regular',inplace = True)"
   ]
  },
  {
   "cell_type": "markdown",
   "metadata": {},
   "source": [
    "replace missing values with mean for Item_Weight"
   ]
  },
  {
   "cell_type": "code",
   "execution_count": null,
   "metadata": {},
   "outputs": [],
   "source": []
  },
  {
   "cell_type": "code",
   "execution_count": 57,
   "metadata": {},
   "outputs": [],
   "source": [
    "Item_Weight_Mean = Data['Item_Weight'].mean(axis=0)"
   ]
  },
  {
   "cell_type": "code",
   "execution_count": 58,
   "metadata": {},
   "outputs": [],
   "source": [
    "Data['Item_Weight'].replace(np.NaN,Item_Weight_Mean, inplace = True)"
   ]
  },
  {
   "cell_type": "markdown",
   "metadata": {},
   "source": [
    "replace missing values with mean for Item_Visibility"
   ]
  },
  {
   "cell_type": "code",
   "execution_count": 59,
   "metadata": {},
   "outputs": [],
   "source": [
    "Data['Item_Visibility'].replace(0,np.NaN,inplace = True)"
   ]
  },
  {
   "cell_type": "code",
   "execution_count": 60,
   "metadata": {},
   "outputs": [],
   "source": [
    "Item_Visibility_Mean = Data['Item_Visibility'].mean(axis = 0)"
   ]
  },
  {
   "cell_type": "code",
   "execution_count": 61,
   "metadata": {},
   "outputs": [],
   "source": [
    "Data['Item_Visibility'].replace(np.NaN,Item_Visibility_Mean,inplace = True)"
   ]
  },
  {
   "cell_type": "markdown",
   "metadata": {},
   "source": [
    "replace item_type by itemID initials (to reduce total number of types from 16 to 3)"
   ]
  },
  {
   "cell_type": "code",
   "execution_count": 62,
   "metadata": {},
   "outputs": [],
   "source": [
    "Data['Item_Type'] = Data['Item_Identifier'].apply(lambda x : x[0:2])"
   ]
  },
  {
   "cell_type": "markdown",
   "metadata": {},
   "source": [
    "replace missing values for Outlet_Size"
   ]
  },
  {
   "cell_type": "code",
   "execution_count": 63,
   "metadata": {},
   "outputs": [],
   "source": [
    "from scipy.stats import mode"
   ]
  },
  {
   "cell_type": "code",
   "execution_count": 64,
   "metadata": {},
   "outputs": [],
   "source": [
    "Outlet_Size_mode = Data.pivot_table(values = 'Outlet_Size',columns = 'Outlet_Type', aggfunc = (lambda x:x.mode().iat[0]))"
   ]
  },
  {
   "cell_type": "code",
   "execution_count": 65,
   "metadata": {},
   "outputs": [],
   "source": [
    "miss_bool = Data['Outlet_Size'].isnull()"
   ]
  },
  {
   "cell_type": "code",
   "execution_count": 66,
   "metadata": {},
   "outputs": [],
   "source": [
    "Data.loc[miss_bool,'Outlet_Size'] = Data.loc[miss_bool,'Outlet_Type'].apply(lambda x: Outlet_Size_mode[x])"
   ]
  },
  {
   "cell_type": "markdown",
   "metadata": {},
   "source": [
    "Convert categorical to numerical using dummy columns"
   ]
  },
  {
   "cell_type": "code",
   "execution_count": 67,
   "metadata": {},
   "outputs": [],
   "source": [
    "dummies = ['Item_Fat_Content','Item_Type','Outlet_Location_Type','Outlet_Size','Outlet_Type']"
   ]
  },
  {
   "cell_type": "code",
   "execution_count": 68,
   "metadata": {},
   "outputs": [],
   "source": [
    "Data = pd.get_dummies(Data, columns = dummies)"
   ]
  },
  {
   "cell_type": "markdown",
   "metadata": {},
   "source": [
    "Drop useless columns"
   ]
  },
  {
   "cell_type": "code",
   "execution_count": 69,
   "metadata": {},
   "outputs": [],
   "source": [
    "Data.drop(['Outlet_Identifier','Item_Identifier'],axis=1, inplace=True)"
   ]
  },
  {
   "cell_type": "markdown",
   "metadata": {},
   "source": [
    "split df into train and test"
   ]
  },
  {
   "cell_type": "code",
   "execution_count": 70,
   "metadata": {},
   "outputs": [],
   "source": [
    "Train  = Data.loc[Data['Source']=='Train']\n",
    "Test = Data.loc[Data['Source']=='Test']"
   ]
  },
  {
   "cell_type": "code",
   "execution_count": 71,
   "metadata": {},
   "outputs": [
    {
     "name": "stderr",
     "output_type": "stream",
     "text": [
      "C:\\Users\\hp\\Anaconda3\\lib\\site-packages\\pandas\\core\\frame.py:3694: SettingWithCopyWarning: \n",
      "A value is trying to be set on a copy of a slice from a DataFrame\n",
      "\n",
      "See the caveats in the documentation: http://pandas.pydata.org/pandas-docs/stable/indexing.html#indexing-view-versus-copy\n",
      "  errors=errors)\n"
     ]
    }
   ],
   "source": [
    "Train.drop('Source', axis = 1, inplace = True)\n",
    "Test.drop('Source', axis = 1, inplace = True)"
   ]
  },
  {
   "cell_type": "code",
   "execution_count": 72,
   "metadata": {},
   "outputs": [],
   "source": [
    "x_train = np.array(Train.drop(['Item_Outlet_Sales'],axis=1))\n",
    "y_train = np.array(Train['Item_Outlet_Sales'])"
   ]
  },
  {
   "cell_type": "code",
   "execution_count": 73,
   "metadata": {},
   "outputs": [],
   "source": [
    "from sklearn.linear_model import LinearRegression\n",
    "from sklearn import metrics"
   ]
  },
  {
   "cell_type": "code",
   "execution_count": 74,
   "metadata": {},
   "outputs": [],
   "source": [
    "lr = LinearRegression(normalize = True)"
   ]
  },
  {
   "cell_type": "code",
   "execution_count": 75,
   "metadata": {},
   "outputs": [
    {
     "data": {
      "text/plain": [
       "LinearRegression(copy_X=True, fit_intercept=True, n_jobs=1, normalize=True)"
      ]
     },
     "execution_count": 75,
     "metadata": {},
     "output_type": "execute_result"
    }
   ],
   "source": [
    "lr.fit(x_train,y_train)"
   ]
  },
  {
   "cell_type": "code",
   "execution_count": 76,
   "metadata": {},
   "outputs": [
    {
     "data": {
      "text/plain": [
       "88737437327677.98"
      ]
     },
     "execution_count": 76,
     "metadata": {},
     "output_type": "execute_result"
    }
   ],
   "source": [
    "lr.intercept_"
   ]
  },
  {
   "cell_type": "code",
   "execution_count": 77,
   "metadata": {},
   "outputs": [
    {
     "data": {
      "text/plain": [
       "array([ 1.55630287e+01, -2.28284001e+02, -5.27271235e-01, -3.05955928e+01,\n",
       "        1.15552325e+14,  1.15552325e+14,  1.15552325e+14,  6.76234113e+13,\n",
       "        6.76234113e+13,  6.76234113e+13, -5.71801854e+13, -5.71801854e+13,\n",
       "       -5.71801854e+13, -8.75928390e+13, -8.75928390e+13, -8.75928390e+13,\n",
       "       -1.27140149e+14, -1.27140149e+14, -1.27140149e+14, -1.27140149e+14])"
      ]
     },
     "execution_count": 77,
     "metadata": {},
     "output_type": "execute_result"
    }
   ],
   "source": [
    "lr.coef_"
   ]
  },
  {
   "cell_type": "code",
   "execution_count": 78,
   "metadata": {},
   "outputs": [],
   "source": [
    "y_train_pred = lr.predict(x_train)"
   ]
  },
  {
   "cell_type": "code",
   "execution_count": 79,
   "metadata": {},
   "outputs": [],
   "source": [
    "rmse = metrics.mean_squared_error(y_train,y_train_pred)"
   ]
  },
  {
   "cell_type": "code",
   "execution_count": 80,
   "metadata": {},
   "outputs": [
    {
     "data": {
      "text/plain": [
       "1272540.5371354583"
      ]
     },
     "execution_count": 80,
     "metadata": {},
     "output_type": "execute_result"
    }
   ],
   "source": [
    "rmse"
   ]
  },
  {
   "cell_type": "code",
   "execution_count": 81,
   "metadata": {},
   "outputs": [
    {
     "data": {
      "text/plain": [
       "array([4058.21875,  572.3125 , 2369.9375 , ..., 1414.25   , 1413.875  ,\n",
       "       1220.90625])"
      ]
     },
     "execution_count": 81,
     "metadata": {},
     "output_type": "execute_result"
    }
   ],
   "source": [
    "y_train_pred"
   ]
  },
  {
   "cell_type": "code",
   "execution_count": 82,
   "metadata": {},
   "outputs": [],
   "source": [
    "output_df = pd.DataFrame(y_train_pred)"
   ]
  },
  {
   "cell_type": "code",
   "execution_count": 83,
   "metadata": {},
   "outputs": [],
   "source": [
    "final_df['Outles_Sales'] = output_df"
   ]
  },
  {
   "cell_type": "code",
   "execution_count": 84,
   "metadata": {},
   "outputs": [
    {
     "data": {
      "text/html": [
       "<div>\n",
       "<style scoped>\n",
       "    .dataframe tbody tr th:only-of-type {\n",
       "        vertical-align: middle;\n",
       "    }\n",
       "\n",
       "    .dataframe tbody tr th {\n",
       "        vertical-align: top;\n",
       "    }\n",
       "\n",
       "    .dataframe thead th {\n",
       "        text-align: right;\n",
       "    }\n",
       "</style>\n",
       "<table border=\"1\" class=\"dataframe\">\n",
       "  <thead>\n",
       "    <tr style=\"text-align: right;\">\n",
       "      <th></th>\n",
       "      <th>Item_Identifier</th>\n",
       "      <th>Outlet_Identifier</th>\n",
       "      <th>Outles_Sales</th>\n",
       "    </tr>\n",
       "  </thead>\n",
       "  <tbody>\n",
       "    <tr>\n",
       "      <th>0</th>\n",
       "      <td>FDW58</td>\n",
       "      <td>OUT049</td>\n",
       "      <td>4058.218750</td>\n",
       "    </tr>\n",
       "    <tr>\n",
       "      <th>1</th>\n",
       "      <td>FDW14</td>\n",
       "      <td>OUT017</td>\n",
       "      <td>572.312500</td>\n",
       "    </tr>\n",
       "    <tr>\n",
       "      <th>2</th>\n",
       "      <td>NCN55</td>\n",
       "      <td>OUT010</td>\n",
       "      <td>2369.937500</td>\n",
       "    </tr>\n",
       "    <tr>\n",
       "      <th>3</th>\n",
       "      <td>FDQ58</td>\n",
       "      <td>OUT017</td>\n",
       "      <td>1021.187500</td>\n",
       "    </tr>\n",
       "    <tr>\n",
       "      <th>4</th>\n",
       "      <td>FDY38</td>\n",
       "      <td>OUT027</td>\n",
       "      <td>901.812500</td>\n",
       "    </tr>\n",
       "    <tr>\n",
       "      <th>5</th>\n",
       "      <td>FDH56</td>\n",
       "      <td>OUT046</td>\n",
       "      <td>624.187500</td>\n",
       "    </tr>\n",
       "    <tr>\n",
       "      <th>6</th>\n",
       "      <td>FDL48</td>\n",
       "      <td>OUT018</td>\n",
       "      <td>1040.687500</td>\n",
       "    </tr>\n",
       "    <tr>\n",
       "      <th>7</th>\n",
       "      <td>FDC48</td>\n",
       "      <td>OUT027</td>\n",
       "      <td>3173.593750</td>\n",
       "    </tr>\n",
       "    <tr>\n",
       "      <th>8</th>\n",
       "      <td>FDN33</td>\n",
       "      <td>OUT045</td>\n",
       "      <td>1607.875000</td>\n",
       "    </tr>\n",
       "    <tr>\n",
       "      <th>9</th>\n",
       "      <td>FDA36</td>\n",
       "      <td>OUT017</td>\n",
       "      <td>3155.406250</td>\n",
       "    </tr>\n",
       "    <tr>\n",
       "      <th>10</th>\n",
       "      <td>FDT44</td>\n",
       "      <td>OUT017</td>\n",
       "      <td>865.468750</td>\n",
       "    </tr>\n",
       "    <tr>\n",
       "      <th>11</th>\n",
       "      <td>FDQ56</td>\n",
       "      <td>OUT045</td>\n",
       "      <td>2344.843750</td>\n",
       "    </tr>\n",
       "    <tr>\n",
       "      <th>12</th>\n",
       "      <td>NCC54</td>\n",
       "      <td>OUT019</td>\n",
       "      <td>2452.843750</td>\n",
       "    </tr>\n",
       "    <tr>\n",
       "      <th>13</th>\n",
       "      <td>FDU11</td>\n",
       "      <td>OUT049</td>\n",
       "      <td>1964.656250</td>\n",
       "    </tr>\n",
       "    <tr>\n",
       "      <th>14</th>\n",
       "      <td>DRL59</td>\n",
       "      <td>OUT013</td>\n",
       "      <td>3145.937500</td>\n",
       "    </tr>\n",
       "    <tr>\n",
       "      <th>15</th>\n",
       "      <td>FDM24</td>\n",
       "      <td>OUT049</td>\n",
       "      <td>978.812500</td>\n",
       "    </tr>\n",
       "    <tr>\n",
       "      <th>16</th>\n",
       "      <td>FDI57</td>\n",
       "      <td>OUT045</td>\n",
       "      <td>1563.656250</td>\n",
       "    </tr>\n",
       "    <tr>\n",
       "      <th>17</th>\n",
       "      <td>DRC12</td>\n",
       "      <td>OUT018</td>\n",
       "      <td>1045.031250</td>\n",
       "    </tr>\n",
       "    <tr>\n",
       "      <th>18</th>\n",
       "      <td>NCM42</td>\n",
       "      <td>OUT027</td>\n",
       "      <td>3263.656250</td>\n",
       "    </tr>\n",
       "    <tr>\n",
       "      <th>19</th>\n",
       "      <td>FDA46</td>\n",
       "      <td>OUT010</td>\n",
       "      <td>3689.031250</td>\n",
       "    </tr>\n",
       "    <tr>\n",
       "      <th>20</th>\n",
       "      <td>FDA31</td>\n",
       "      <td>OUT013</td>\n",
       "      <td>4016.312500</td>\n",
       "    </tr>\n",
       "    <tr>\n",
       "      <th>21</th>\n",
       "      <td>NCJ31</td>\n",
       "      <td>OUT035</td>\n",
       "      <td>3807.625000</td>\n",
       "    </tr>\n",
       "    <tr>\n",
       "      <th>22</th>\n",
       "      <td>FDG52</td>\n",
       "      <td>OUT046</td>\n",
       "      <td>3147.812500</td>\n",
       "    </tr>\n",
       "    <tr>\n",
       "      <th>23</th>\n",
       "      <td>NCL19</td>\n",
       "      <td>OUT019</td>\n",
       "      <td>-153.296875</td>\n",
       "    </tr>\n",
       "    <tr>\n",
       "      <th>24</th>\n",
       "      <td>FDS10</td>\n",
       "      <td>OUT035</td>\n",
       "      <td>2677.187500</td>\n",
       "    </tr>\n",
       "    <tr>\n",
       "      <th>25</th>\n",
       "      <td>FDX22</td>\n",
       "      <td>OUT010</td>\n",
       "      <td>879.687500</td>\n",
       "    </tr>\n",
       "    <tr>\n",
       "      <th>26</th>\n",
       "      <td>NCF19</td>\n",
       "      <td>OUT035</td>\n",
       "      <td>811.468750</td>\n",
       "    </tr>\n",
       "    <tr>\n",
       "      <th>27</th>\n",
       "      <td>NCE06</td>\n",
       "      <td>OUT046</td>\n",
       "      <td>685.906250</td>\n",
       "    </tr>\n",
       "    <tr>\n",
       "      <th>28</th>\n",
       "      <td>DRC27</td>\n",
       "      <td>OUT046</td>\n",
       "      <td>-1118.312500</td>\n",
       "    </tr>\n",
       "    <tr>\n",
       "      <th>29</th>\n",
       "      <td>FDE21</td>\n",
       "      <td>OUT035</td>\n",
       "      <td>-1112.828125</td>\n",
       "    </tr>\n",
       "    <tr>\n",
       "      <th>...</th>\n",
       "      <td>...</td>\n",
       "      <td>...</td>\n",
       "      <td>...</td>\n",
       "    </tr>\n",
       "    <tr>\n",
       "      <th>5651</th>\n",
       "      <td>FDD23</td>\n",
       "      <td>OUT013</td>\n",
       "      <td>2017.750000</td>\n",
       "    </tr>\n",
       "    <tr>\n",
       "      <th>5652</th>\n",
       "      <td>FDP32</td>\n",
       "      <td>OUT045</td>\n",
       "      <td>740.093750</td>\n",
       "    </tr>\n",
       "    <tr>\n",
       "      <th>5653</th>\n",
       "      <td>FDO31</td>\n",
       "      <td>OUT035</td>\n",
       "      <td>3134.843750</td>\n",
       "    </tr>\n",
       "    <tr>\n",
       "      <th>5654</th>\n",
       "      <td>FDQ57</td>\n",
       "      <td>OUT013</td>\n",
       "      <td>4045.250000</td>\n",
       "    </tr>\n",
       "    <tr>\n",
       "      <th>5655</th>\n",
       "      <td>FDX32</td>\n",
       "      <td>OUT027</td>\n",
       "      <td>2457.656250</td>\n",
       "    </tr>\n",
       "    <tr>\n",
       "      <th>5656</th>\n",
       "      <td>FDC39</td>\n",
       "      <td>OUT027</td>\n",
       "      <td>2032.656250</td>\n",
       "    </tr>\n",
       "    <tr>\n",
       "      <th>5657</th>\n",
       "      <td>FDU55</td>\n",
       "      <td>OUT046</td>\n",
       "      <td>1347.468750</td>\n",
       "    </tr>\n",
       "    <tr>\n",
       "      <th>5658</th>\n",
       "      <td>FDL45</td>\n",
       "      <td>OUT013</td>\n",
       "      <td>1002.343750</td>\n",
       "    </tr>\n",
       "    <tr>\n",
       "      <th>5659</th>\n",
       "      <td>DRK37</td>\n",
       "      <td>OUT049</td>\n",
       "      <td>3812.593750</td>\n",
       "    </tr>\n",
       "    <tr>\n",
       "      <th>5660</th>\n",
       "      <td>FDK22</td>\n",
       "      <td>OUT013</td>\n",
       "      <td>1025.687500</td>\n",
       "    </tr>\n",
       "    <tr>\n",
       "      <th>5661</th>\n",
       "      <td>DRG37</td>\n",
       "      <td>OUT027</td>\n",
       "      <td>2820.656250</td>\n",
       "    </tr>\n",
       "    <tr>\n",
       "      <th>5662</th>\n",
       "      <td>FDK22</td>\n",
       "      <td>OUT017</td>\n",
       "      <td>2446.125000</td>\n",
       "    </tr>\n",
       "    <tr>\n",
       "      <th>5663</th>\n",
       "      <td>DRH36</td>\n",
       "      <td>OUT018</td>\n",
       "      <td>1587.187500</td>\n",
       "    </tr>\n",
       "    <tr>\n",
       "      <th>5664</th>\n",
       "      <td>DRC36</td>\n",
       "      <td>OUT018</td>\n",
       "      <td>4111.093750</td>\n",
       "    </tr>\n",
       "    <tr>\n",
       "      <th>5665</th>\n",
       "      <td>DRE03</td>\n",
       "      <td>OUT027</td>\n",
       "      <td>4479.937500</td>\n",
       "    </tr>\n",
       "    <tr>\n",
       "      <th>5666</th>\n",
       "      <td>FDF34</td>\n",
       "      <td>OUT046</td>\n",
       "      <td>1787.218750</td>\n",
       "    </tr>\n",
       "    <tr>\n",
       "      <th>5667</th>\n",
       "      <td>FDZ22</td>\n",
       "      <td>OUT046</td>\n",
       "      <td>2112.406250</td>\n",
       "    </tr>\n",
       "    <tr>\n",
       "      <th>5668</th>\n",
       "      <td>FDC44</td>\n",
       "      <td>OUT010</td>\n",
       "      <td>4064.718750</td>\n",
       "    </tr>\n",
       "    <tr>\n",
       "      <th>5669</th>\n",
       "      <td>FDN31</td>\n",
       "      <td>OUT027</td>\n",
       "      <td>985.781250</td>\n",
       "    </tr>\n",
       "    <tr>\n",
       "      <th>5670</th>\n",
       "      <td>FDO03</td>\n",
       "      <td>OUT017</td>\n",
       "      <td>-1242.921875</td>\n",
       "    </tr>\n",
       "    <tr>\n",
       "      <th>5671</th>\n",
       "      <td>FDA01</td>\n",
       "      <td>OUT049</td>\n",
       "      <td>688.953125</td>\n",
       "    </tr>\n",
       "    <tr>\n",
       "      <th>5672</th>\n",
       "      <td>NCH42</td>\n",
       "      <td>OUT049</td>\n",
       "      <td>2829.843750</td>\n",
       "    </tr>\n",
       "    <tr>\n",
       "      <th>5673</th>\n",
       "      <td>FDF46</td>\n",
       "      <td>OUT018</td>\n",
       "      <td>3693.562500</td>\n",
       "    </tr>\n",
       "    <tr>\n",
       "      <th>5674</th>\n",
       "      <td>DRL35</td>\n",
       "      <td>OUT046</td>\n",
       "      <td>1265.000000</td>\n",
       "    </tr>\n",
       "    <tr>\n",
       "      <th>5675</th>\n",
       "      <td>FDW46</td>\n",
       "      <td>OUT049</td>\n",
       "      <td>3504.562500</td>\n",
       "    </tr>\n",
       "    <tr>\n",
       "      <th>5676</th>\n",
       "      <td>FDB58</td>\n",
       "      <td>OUT046</td>\n",
       "      <td>2224.406250</td>\n",
       "    </tr>\n",
       "    <tr>\n",
       "      <th>5677</th>\n",
       "      <td>FDD47</td>\n",
       "      <td>OUT018</td>\n",
       "      <td>4019.000000</td>\n",
       "    </tr>\n",
       "    <tr>\n",
       "      <th>5678</th>\n",
       "      <td>NCO17</td>\n",
       "      <td>OUT045</td>\n",
       "      <td>2632.000000</td>\n",
       "    </tr>\n",
       "    <tr>\n",
       "      <th>5679</th>\n",
       "      <td>FDJ26</td>\n",
       "      <td>OUT017</td>\n",
       "      <td>3138.406250</td>\n",
       "    </tr>\n",
       "    <tr>\n",
       "      <th>5680</th>\n",
       "      <td>FDU37</td>\n",
       "      <td>OUT045</td>\n",
       "      <td>2590.062500</td>\n",
       "    </tr>\n",
       "  </tbody>\n",
       "</table>\n",
       "<p>5681 rows × 3 columns</p>\n",
       "</div>"
      ],
      "text/plain": [
       "     Item_Identifier Outlet_Identifier  Outles_Sales\n",
       "0              FDW58            OUT049   4058.218750\n",
       "1              FDW14            OUT017    572.312500\n",
       "2              NCN55            OUT010   2369.937500\n",
       "3              FDQ58            OUT017   1021.187500\n",
       "4              FDY38            OUT027    901.812500\n",
       "5              FDH56            OUT046    624.187500\n",
       "6              FDL48            OUT018   1040.687500\n",
       "7              FDC48            OUT027   3173.593750\n",
       "8              FDN33            OUT045   1607.875000\n",
       "9              FDA36            OUT017   3155.406250\n",
       "10             FDT44            OUT017    865.468750\n",
       "11             FDQ56            OUT045   2344.843750\n",
       "12             NCC54            OUT019   2452.843750\n",
       "13             FDU11            OUT049   1964.656250\n",
       "14             DRL59            OUT013   3145.937500\n",
       "15             FDM24            OUT049    978.812500\n",
       "16             FDI57            OUT045   1563.656250\n",
       "17             DRC12            OUT018   1045.031250\n",
       "18             NCM42            OUT027   3263.656250\n",
       "19             FDA46            OUT010   3689.031250\n",
       "20             FDA31            OUT013   4016.312500\n",
       "21             NCJ31            OUT035   3807.625000\n",
       "22             FDG52            OUT046   3147.812500\n",
       "23             NCL19            OUT019   -153.296875\n",
       "24             FDS10            OUT035   2677.187500\n",
       "25             FDX22            OUT010    879.687500\n",
       "26             NCF19            OUT035    811.468750\n",
       "27             NCE06            OUT046    685.906250\n",
       "28             DRC27            OUT046  -1118.312500\n",
       "29             FDE21            OUT035  -1112.828125\n",
       "...              ...               ...           ...\n",
       "5651           FDD23            OUT013   2017.750000\n",
       "5652           FDP32            OUT045    740.093750\n",
       "5653           FDO31            OUT035   3134.843750\n",
       "5654           FDQ57            OUT013   4045.250000\n",
       "5655           FDX32            OUT027   2457.656250\n",
       "5656           FDC39            OUT027   2032.656250\n",
       "5657           FDU55            OUT046   1347.468750\n",
       "5658           FDL45            OUT013   1002.343750\n",
       "5659           DRK37            OUT049   3812.593750\n",
       "5660           FDK22            OUT013   1025.687500\n",
       "5661           DRG37            OUT027   2820.656250\n",
       "5662           FDK22            OUT017   2446.125000\n",
       "5663           DRH36            OUT018   1587.187500\n",
       "5664           DRC36            OUT018   4111.093750\n",
       "5665           DRE03            OUT027   4479.937500\n",
       "5666           FDF34            OUT046   1787.218750\n",
       "5667           FDZ22            OUT046   2112.406250\n",
       "5668           FDC44            OUT010   4064.718750\n",
       "5669           FDN31            OUT027    985.781250\n",
       "5670           FDO03            OUT017  -1242.921875\n",
       "5671           FDA01            OUT049    688.953125\n",
       "5672           NCH42            OUT049   2829.843750\n",
       "5673           FDF46            OUT018   3693.562500\n",
       "5674           DRL35            OUT046   1265.000000\n",
       "5675           FDW46            OUT049   3504.562500\n",
       "5676           FDB58            OUT046   2224.406250\n",
       "5677           FDD47            OUT018   4019.000000\n",
       "5678           NCO17            OUT045   2632.000000\n",
       "5679           FDJ26            OUT017   3138.406250\n",
       "5680           FDU37            OUT045   2590.062500\n",
       "\n",
       "[5681 rows x 3 columns]"
      ]
     },
     "execution_count": 84,
     "metadata": {},
     "output_type": "execute_result"
    }
   ],
   "source": [
    "final_df"
   ]
  },
  {
   "cell_type": "code",
   "execution_count": 85,
   "metadata": {},
   "outputs": [],
   "source": [
    "final_df.to_csv(\"output.csv\")"
   ]
  },
  {
   "cell_type": "code",
   "execution_count": null,
   "metadata": {},
   "outputs": [],
   "source": []
  }
 ],
 "metadata": {
  "kernelspec": {
   "display_name": "Python 3",
   "language": "python",
   "name": "python3"
  },
  "language_info": {
   "codemirror_mode": {
    "name": "ipython",
    "version": 3
   },
   "file_extension": ".py",
   "mimetype": "text/x-python",
   "name": "python",
   "nbconvert_exporter": "python",
   "pygments_lexer": "ipython3",
   "version": "3.6.5"
  }
 },
 "nbformat": 4,
 "nbformat_minor": 2
}
